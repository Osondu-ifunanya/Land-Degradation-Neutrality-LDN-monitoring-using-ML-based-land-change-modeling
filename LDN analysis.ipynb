{
 "cells": [
  {
   "cell_type": "code",
   "execution_count": null,
   "id": "0f5fefac-8ec9-40c9-b94f-3ba017dce597",
   "metadata": {},
   "outputs": [],
   "source": []
  }
 ],
 "metadata": {
  "kernelspec": {
   "display_name": "",
   "name": ""
  },
  "language_info": {
   "name": ""
  }
 },
 "nbformat": 4,
 "nbformat_minor": 5
}
